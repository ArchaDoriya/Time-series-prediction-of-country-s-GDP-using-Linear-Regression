{
 "cells": [
  {
   "cell_type": "code",
   "execution_count": 19,
   "metadata": {},
   "outputs": [],
   "source": [
    "# Import necessary libraries\n",
    "import pandas as pd\n",
    "import numpy as np\n",
    "import matplotlib.pyplot as plt\n",
    "import seaborn as seabornInstance\n",
    "from sklearn.model_selection import train_test_split \n",
    "from sklearn.linear_model import LinearRegression\n",
    "from sklearn import metrics\n",
    "%matplotlib inline"
   ]
  },
  {
   "cell_type": "code",
   "execution_count": 20,
   "metadata": {},
   "outputs": [
    {
     "data": {
      "text/html": [
       "<div>\n",
       "<style scoped>\n",
       "    .dataframe tbody tr th:only-of-type {\n",
       "        vertical-align: middle;\n",
       "    }\n",
       "\n",
       "    .dataframe tbody tr th {\n",
       "        vertical-align: top;\n",
       "    }\n",
       "\n",
       "    .dataframe thead th {\n",
       "        text-align: right;\n",
       "    }\n",
       "</style>\n",
       "<table border=\"1\" class=\"dataframe\">\n",
       "  <thead>\n",
       "    <tr style=\"text-align: right;\">\n",
       "      <th></th>\n",
       "      <th>YEAR</th>\n",
       "      <th>AUS</th>\n",
       "      <th>CHN</th>\n",
       "      <th>JPN</th>\n",
       "      <th>RUS</th>\n",
       "      <th>USA</th>\n",
       "      <th>IND</th>\n",
       "    </tr>\n",
       "  </thead>\n",
       "  <tbody>\n",
       "    <tr>\n",
       "      <th>0</th>\n",
       "      <td>1850</td>\n",
       "      <td>2896.335263</td>\n",
       "      <td>796.306482</td>\n",
       "      <td>835.179422</td>\n",
       "      <td>1673.294715</td>\n",
       "      <td>2483.824349</td>\n",
       "      <td>711.922510</td>\n",
       "    </tr>\n",
       "    <tr>\n",
       "      <th>1</th>\n",
       "      <td>1851</td>\n",
       "      <td>3437.473345</td>\n",
       "      <td>791.661360</td>\n",
       "      <td>838.613346</td>\n",
       "      <td>1681.381986</td>\n",
       "      <td>2584.574391</td>\n",
       "      <td>710.700326</td>\n",
       "    </tr>\n",
       "  </tbody>\n",
       "</table>\n",
       "</div>"
      ],
      "text/plain": [
       "   YEAR          AUS         CHN         JPN          RUS          USA  \\\n",
       "0  1850  2896.335263  796.306482  835.179422  1673.294715  2483.824349   \n",
       "1  1851  3437.473345  791.661360  838.613346  1681.381986  2584.574391   \n",
       "\n",
       "          IND  \n",
       "0  711.922510  \n",
       "1  710.700326  "
      ]
     },
     "execution_count": 20,
     "metadata": {},
     "output_type": "execute_result"
    }
   ],
   "source": [
    "# Read CSV file\n",
    "gdp = pd.read_csv('C:/Users/abhishek nigam/Documents/Archa Docs/Python/Python Projects/Linear Regression/GDP.csv')\n",
    "gdp.head(2)"
   ]
  },
  {
   "cell_type": "code",
   "execution_count": 21,
   "metadata": {},
   "outputs": [
    {
     "data": {
      "text/plain": [
       "(160, 7)"
      ]
     },
     "execution_count": 21,
     "metadata": {},
     "output_type": "execute_result"
    }
   ],
   "source": [
    "# Return shape of the dataset\n",
    "gdp.shape"
   ]
  },
  {
   "cell_type": "code",
   "execution_count": 22,
   "metadata": {},
   "outputs": [
    {
     "data": {
      "text/html": [
       "<div>\n",
       "<style scoped>\n",
       "    .dataframe tbody tr th:only-of-type {\n",
       "        vertical-align: middle;\n",
       "    }\n",
       "\n",
       "    .dataframe tbody tr th {\n",
       "        vertical-align: top;\n",
       "    }\n",
       "\n",
       "    .dataframe thead th {\n",
       "        text-align: right;\n",
       "    }\n",
       "</style>\n",
       "<table border=\"1\" class=\"dataframe\">\n",
       "  <thead>\n",
       "    <tr style=\"text-align: right;\">\n",
       "      <th></th>\n",
       "      <th>YEAR</th>\n",
       "      <th>AUS</th>\n",
       "      <th>CHN</th>\n",
       "      <th>JPN</th>\n",
       "      <th>RUS</th>\n",
       "      <th>USA</th>\n",
       "      <th>IND</th>\n",
       "    </tr>\n",
       "  </thead>\n",
       "  <tbody>\n",
       "    <tr>\n",
       "      <th>count</th>\n",
       "      <td>160.000000</td>\n",
       "      <td>160.000000</td>\n",
       "      <td>160.000000</td>\n",
       "      <td>160.000000</td>\n",
       "      <td>160.000000</td>\n",
       "      <td>160.000000</td>\n",
       "      <td>160.000000</td>\n",
       "    </tr>\n",
       "    <tr>\n",
       "      <th>mean</th>\n",
       "      <td>1929.500000</td>\n",
       "      <td>12031.297857</td>\n",
       "      <td>1304.928256</td>\n",
       "      <td>7318.527244</td>\n",
       "      <td>6809.009562</td>\n",
       "      <td>13774.599060</td>\n",
       "      <td>998.922174</td>\n",
       "    </tr>\n",
       "    <tr>\n",
       "      <th>std</th>\n",
       "      <td>46.332134</td>\n",
       "      <td>8813.287656</td>\n",
       "      <td>1285.780425</td>\n",
       "      <td>9676.488113</td>\n",
       "      <td>5579.056611</td>\n",
       "      <td>11853.761131</td>\n",
       "      <td>429.483020</td>\n",
       "    </tr>\n",
       "    <tr>\n",
       "      <th>min</th>\n",
       "      <td>1850.000000</td>\n",
       "      <td>2896.335263</td>\n",
       "      <td>594.575506</td>\n",
       "      <td>835.179422</td>\n",
       "      <td>1399.526261</td>\n",
       "      <td>2483.824349</td>\n",
       "      <td>682.319503</td>\n",
       "    </tr>\n",
       "    <tr>\n",
       "      <th>25%</th>\n",
       "      <td>1889.750000</td>\n",
       "      <td>6045.641580</td>\n",
       "      <td>717.837114</td>\n",
       "      <td>1171.213433</td>\n",
       "      <td>2212.326968</td>\n",
       "      <td>4548.528528</td>\n",
       "      <td>735.202489</td>\n",
       "    </tr>\n",
       "    <tr>\n",
       "      <th>50%</th>\n",
       "      <td>1929.500000</td>\n",
       "      <td>7758.512257</td>\n",
       "      <td>742.141051</td>\n",
       "      <td>2260.871165</td>\n",
       "      <td>3795.483292</td>\n",
       "      <td>8307.176731</td>\n",
       "      <td>877.705197</td>\n",
       "    </tr>\n",
       "    <tr>\n",
       "      <th>75%</th>\n",
       "      <td>1969.250000</td>\n",
       "      <td>16744.457667</td>\n",
       "      <td>1110.011150</td>\n",
       "      <td>10806.811140</td>\n",
       "      <td>10652.286932</td>\n",
       "      <td>20591.969463</td>\n",
       "      <td>1042.781619</td>\n",
       "    </tr>\n",
       "    <tr>\n",
       "      <th>max</th>\n",
       "      <td>2009.000000</td>\n",
       "      <td>35836.304230</td>\n",
       "      <td>6627.885632</td>\n",
       "      <td>30914.674710</td>\n",
       "      <td>19611.566970</td>\n",
       "      <td>43411.155420</td>\n",
       "      <td>2894.156383</td>\n",
       "    </tr>\n",
       "  </tbody>\n",
       "</table>\n",
       "</div>"
      ],
      "text/plain": [
       "              YEAR           AUS          CHN           JPN           RUS  \\\n",
       "count   160.000000    160.000000   160.000000    160.000000    160.000000   \n",
       "mean   1929.500000  12031.297857  1304.928256   7318.527244   6809.009562   \n",
       "std      46.332134   8813.287656  1285.780425   9676.488113   5579.056611   \n",
       "min    1850.000000   2896.335263   594.575506    835.179422   1399.526261   \n",
       "25%    1889.750000   6045.641580   717.837114   1171.213433   2212.326968   \n",
       "50%    1929.500000   7758.512257   742.141051   2260.871165   3795.483292   \n",
       "75%    1969.250000  16744.457667  1110.011150  10806.811140  10652.286932   \n",
       "max    2009.000000  35836.304230  6627.885632  30914.674710  19611.566970   \n",
       "\n",
       "                USA          IND  \n",
       "count    160.000000   160.000000  \n",
       "mean   13774.599060   998.922174  \n",
       "std    11853.761131   429.483020  \n",
       "min     2483.824349   682.319503  \n",
       "25%     4548.528528   735.202489  \n",
       "50%     8307.176731   877.705197  \n",
       "75%    20591.969463  1042.781619  \n",
       "max    43411.155420  2894.156383  "
      ]
     },
     "execution_count": 22,
     "metadata": {},
     "output_type": "execute_result"
    }
   ],
   "source": [
    "# Return summary of the data\n",
    "gdp.describe()"
   ]
  },
  {
   "cell_type": "code",
   "execution_count": 23,
   "metadata": {},
   "outputs": [
    {
     "data": {
      "image/png": "[encoded data removed]",
      "text/plain": [
       "<Figure size 432x288 with 1 Axes>"
      ]
     },
     "metadata": {
      "needs_background": "light"
     },
     "output_type": "display_data"
    }
   ],
   "source": [
    "# Eyeballing the data using plots\n",
    "gdp.plot(x='YEAR', y=['AUS', 'CHN', 'JPN', 'RUS', 'USA', 'IND'])\n",
    "plt.title('Year on year GDP')  \n",
    "plt.xlabel('YEAR')  \n",
    "plt.ylabel('GDP')  \n",
    "plt.show()"
   ]
  },
  {
   "cell_type": "code",
   "execution_count": 24,
   "metadata": {},
   "outputs": [
    {
     "data": {
      "image/png": "[encoded data removed]",
      "text/plain": [
       "<Figure size 432x288 with 1 Axes>"
      ]
     },
     "metadata": {
      "needs_background": "light"
     },
     "output_type": "display_data"
    }
   ],
   "source": [
    "# Visualizing year on year variation in the GDP of Australia\n",
    "gdp.plot(x='YEAR', y='AUS', style = 'o')\n",
    "plt.title('Year on year GDP in Australia')  \n",
    "plt.xlabel('YEAR')  \n",
    "plt.ylabel('GDP')  \n",
    "plt.show()"
   ]
  },
  {
   "cell_type": "code",
   "execution_count": 25,
   "metadata": {},
   "outputs": [
    {
     "data": {
      "text/plain": [
       "Text(0.5, 0, 'Avg GDP')"
      ]
     },
     "execution_count": 25,
     "metadata": {},
     "output_type": "execute_result"
    },
    {
     "data": {
      "image/png": "[encoded data removed]",
      "text/plain": [
       "<Figure size 576x360 with 1 Axes>"
      ]
     },
     "metadata": {
      "needs_background": "light"
     },
     "output_type": "display_data"
    }
   ],
   "source": [
    "# Get the distribution plot to check out average GDP in Australia\n",
    "plt.figure(figsize=(8,5))\n",
    "seabornInstance.distplot(gdp['AUS'])\n",
    "plt.title('Average GDP in Australia')   \n",
    "plt.xlabel('Avg GDP')"
   ]
  },
  {
   "cell_type": "code",
   "execution_count": 26,
   "metadata": {},
   "outputs": [],
   "source": [
    "#Dividing attributes and labels\n",
    "X = gdp['YEAR'].values.reshape(-1,1)  # reshape(-1,1) represents single feature data. -1 -> unkown rows and 1 -> 1 column\n",
    "Y = gdp['AUS'].values.reshape(-1,1)"
   ]
  },
  {
   "cell_type": "code",
   "execution_count": 27,
   "metadata": {},
   "outputs": [],
   "source": [
    "# Spliting data into training and testing set\n",
    "X_train, X_test, Y_train, Y_test = train_test_split(X, Y, test_size=0.2, random_state=0)"
   ]
  },
  {
   "cell_type": "code",
   "execution_count": 28,
   "metadata": {},
   "outputs": [
    {
     "data": {
      "text/plain": [
       "LinearRegression(copy_X=True, fit_intercept=True, n_jobs=None, normalize=False)"
      ]
     },
     "execution_count": 28,
     "metadata": {},
     "output_type": "execute_result"
    }
   ],
   "source": [
    "# Applying linear regression algorithm-\n",
    "regressor = LinearRegression()  \n",
    "regressor.fit(X_train, Y_train) #training the algorithm"
   ]
  },
  {
   "cell_type": "code",
   "execution_count": 29,
   "metadata": {},
   "outputs": [
    {
     "name": "stdout",
     "output_type": "stream",
     "text": [
      "[-316500.13995459]\n",
      "[[170.38804817]]\n"
     ]
    }
   ],
   "source": [
    "# Return the value of intercept\n",
    "print(regressor.intercept_)\n",
    "\n",
    "# Return the value of slope\n",
    "print(regressor.coef_)\n",
    "#This means GDP chsnges every year by this rate-> 170.38"
   ]
  },
  {
   "cell_type": "code",
   "execution_count": 30,
   "metadata": {},
   "outputs": [],
   "source": [
    "# Now that I have trained my algorithm it time to make prediction;\n",
    "Y_pred = regressor.predict(X_test)"
   ]
  },
  {
   "cell_type": "code",
   "execution_count": 31,
   "metadata": {},
   "outputs": [
    {
     "data": {
      "text/html": [
       "<div>\n",
       "<style scoped>\n",
       "    .dataframe tbody tr th:only-of-type {\n",
       "        vertical-align: middle;\n",
       "    }\n",
       "\n",
       "    .dataframe tbody tr th {\n",
       "        vertical-align: top;\n",
       "    }\n",
       "\n",
       "    .dataframe thead th {\n",
       "        text-align: right;\n",
       "    }\n",
       "</style>\n",
       "<table border=\"1\" class=\"dataframe\">\n",
       "  <thead>\n",
       "    <tr style=\"text-align: right;\">\n",
       "      <th></th>\n",
       "      <th>Actual</th>\n",
       "      <th>Predicted</th>\n",
       "    </tr>\n",
       "  </thead>\n",
       "  <tbody>\n",
       "    <tr>\n",
       "      <th>0</th>\n",
       "      <td>12371.267040</td>\n",
       "      <td>17460.434454</td>\n",
       "    </tr>\n",
       "    <tr>\n",
       "      <th>1</th>\n",
       "      <td>12908.657520</td>\n",
       "      <td>17801.210551</td>\n",
       "    </tr>\n",
       "    <tr>\n",
       "      <th>2</th>\n",
       "      <td>25420.185390</td>\n",
       "      <td>23083.240044</td>\n",
       "    </tr>\n",
       "    <tr>\n",
       "      <th>3</th>\n",
       "      <td>3950.747948</td>\n",
       "      <td>-89.534507</td>\n",
       "    </tr>\n",
       "    <tr>\n",
       "      <th>4</th>\n",
       "      <td>5522.834734</td>\n",
       "      <td>6214.823275</td>\n",
       "    </tr>\n",
       "    <tr>\n",
       "      <th>5</th>\n",
       "      <td>10591.026210</td>\n",
       "      <td>15926.942021</td>\n",
       "    </tr>\n",
       "    <tr>\n",
       "      <th>6</th>\n",
       "      <td>17594.702860</td>\n",
       "      <td>19505.091032</td>\n",
       "    </tr>\n",
       "    <tr>\n",
       "      <th>7</th>\n",
       "      <td>7153.581475</td>\n",
       "      <td>9963.360335</td>\n",
       "    </tr>\n",
       "    <tr>\n",
       "      <th>8</th>\n",
       "      <td>7798.840976</td>\n",
       "      <td>13200.733250</td>\n",
       "    </tr>\n",
       "    <tr>\n",
       "      <th>9</th>\n",
       "      <td>8089.207752</td>\n",
       "      <td>13371.121298</td>\n",
       "    </tr>\n",
       "    <tr>\n",
       "      <th>10</th>\n",
       "      <td>20601.715750</td>\n",
       "      <td>21379.359562</td>\n",
       "    </tr>\n",
       "    <tr>\n",
       "      <th>11</th>\n",
       "      <td>11006.074000</td>\n",
       "      <td>14393.449587</td>\n",
       "    </tr>\n",
       "    <tr>\n",
       "      <th>12</th>\n",
       "      <td>5876.260961</td>\n",
       "      <td>3147.838408</td>\n",
       "    </tr>\n",
       "    <tr>\n",
       "      <th>13</th>\n",
       "      <td>28600.899340</td>\n",
       "      <td>23594.404188</td>\n",
       "    </tr>\n",
       "    <tr>\n",
       "      <th>14</th>\n",
       "      <td>16706.968470</td>\n",
       "      <td>18993.926888</td>\n",
       "    </tr>\n",
       "    <tr>\n",
       "      <th>15</th>\n",
       "      <td>7476.211225</td>\n",
       "      <td>9281.808142</td>\n",
       "    </tr>\n",
       "    <tr>\n",
       "      <th>16</th>\n",
       "      <td>5629.889151</td>\n",
       "      <td>7407.539612</td>\n",
       "    </tr>\n",
       "    <tr>\n",
       "      <th>17</th>\n",
       "      <td>9772.748452</td>\n",
       "      <td>15245.389828</td>\n",
       "    </tr>\n",
       "    <tr>\n",
       "      <th>18</th>\n",
       "      <td>18946.031230</td>\n",
       "      <td>20527.419321</td>\n",
       "    </tr>\n",
       "    <tr>\n",
       "      <th>19</th>\n",
       "      <td>9042.432016</td>\n",
       "      <td>14052.673491</td>\n",
       "    </tr>\n",
       "    <tr>\n",
       "      <th>20</th>\n",
       "      <td>5113.681550</td>\n",
       "      <td>6385.211323</td>\n",
       "    </tr>\n",
       "    <tr>\n",
       "      <th>21</th>\n",
       "      <td>6609.510395</td>\n",
       "      <td>8259.479853</td>\n",
       "    </tr>\n",
       "    <tr>\n",
       "      <th>22</th>\n",
       "      <td>7304.630858</td>\n",
       "      <td>8770.643998</td>\n",
       "    </tr>\n",
       "    <tr>\n",
       "      <th>23</th>\n",
       "      <td>3368.547898</td>\n",
       "      <td>80.853541</td>\n",
       "    </tr>\n",
       "    <tr>\n",
       "      <th>24</th>\n",
       "      <td>6792.822753</td>\n",
       "      <td>5022.106938</td>\n",
       "    </tr>\n",
       "    <tr>\n",
       "      <th>25</th>\n",
       "      <td>6562.582431</td>\n",
       "      <td>4340.554745</td>\n",
       "    </tr>\n",
       "    <tr>\n",
       "      <th>26</th>\n",
       "      <td>29682.291960</td>\n",
       "      <td>23764.792237</td>\n",
       "    </tr>\n",
       "    <tr>\n",
       "      <th>27</th>\n",
       "      <td>7485.010219</td>\n",
       "      <td>9111.420094</td>\n",
       "    </tr>\n",
       "    <tr>\n",
       "      <th>28</th>\n",
       "      <td>10217.097610</td>\n",
       "      <td>15415.777876</td>\n",
       "    </tr>\n",
       "    <tr>\n",
       "      <th>29</th>\n",
       "      <td>17072.155750</td>\n",
       "      <td>19334.702984</td>\n",
       "    </tr>\n",
       "    <tr>\n",
       "      <th>30</th>\n",
       "      <td>21413.154760</td>\n",
       "      <td>21720.135659</td>\n",
       "    </tr>\n",
       "    <tr>\n",
       "      <th>31</th>\n",
       "      <td>5624.023156</td>\n",
       "      <td>2807.062312</td>\n",
       "    </tr>\n",
       "  </tbody>\n",
       "</table>\n",
       "</div>"
      ],
      "text/plain": [
       "          Actual     Predicted\n",
       "0   12371.267040  17460.434454\n",
       "1   12908.657520  17801.210551\n",
       "2   25420.185390  23083.240044\n",
       "3    3950.747948    -89.534507\n",
       "4    5522.834734   6214.823275\n",
       "5   10591.026210  15926.942021\n",
       "6   17594.702860  19505.091032\n",
       "7    7153.581475   9963.360335\n",
       "8    7798.840976  13200.733250\n",
       "9    8089.207752  13371.121298\n",
       "10  20601.715750  21379.359562\n",
       "11  11006.074000  14393.449587\n",
       "12   5876.260961   3147.838408\n",
       "13  28600.899340  23594.404188\n",
       "14  16706.968470  18993.926888\n",
       "15   7476.211225   9281.808142\n",
       "16   5629.889151   7407.539612\n",
       "17   9772.748452  15245.389828\n",
       "18  18946.031230  20527.419321\n",
       "19   9042.432016  14052.673491\n",
       "20   5113.681550   6385.211323\n",
       "21   6609.510395   8259.479853\n",
       "22   7304.630858   8770.643998\n",
       "23   3368.547898     80.853541\n",
       "24   6792.822753   5022.106938\n",
       "25   6562.582431   4340.554745\n",
       "26  29682.291960  23764.792237\n",
       "27   7485.010219   9111.420094\n",
       "28  10217.097610  15415.777876\n",
       "29  17072.155750  19334.702984\n",
       "30  21413.154760  21720.135659\n",
       "31   5624.023156   2807.062312"
      ]
     },
     "execution_count": 31,
     "metadata": {},
     "output_type": "execute_result"
    }
   ],
   "source": [
    "# Compare actual vs predicted GDP\n",
    "Aus_gdp = pd.DataFrame({'Actual': Y_test.flatten(), 'Predicted': Y_pred.flatten()})\n",
    "Aus_gdp"
   ]
  },
  {
   "cell_type": "code",
   "execution_count": 32,
   "metadata": {},
   "outputs": [
    {
     "data": {
      "image/png": "[encoded data removed]",
      "text/plain": [
       "<Figure size 576x360 with 1 Axes>"
      ]
     },
     "metadata": {
      "needs_background": "light"
     },
     "output_type": "display_data"
    }
   ],
   "source": [
    "# Visual comparison of actual and predicted values\n",
    "Aus_gdp_top25 = Aus_gdp.head(25)\n",
    "Aus_gdp_top25.plot(kind='bar',figsize=(8,5))\n",
    "plt.grid(which='major', linestyle='-', linewidth='0.8', color='red')\n",
    "plt.grid(which='minor', linestyle=':', linewidth='0.8', color='orange')\n",
    "plt.title('Actual GDP vs Predicted GDP')   \n",
    "plt.xlabel('Year')\n",
    "plt.ylabel('GDP')        \n",
    "plt.show()"
   ]
  },
  {
   "cell_type": "code",
   "execution_count": 33,
   "metadata": {},
   "outputs": [
    {
     "data": {
      "image/png": "[encoded data removed]",
      "text/plain": [
       "<Figure size 432x288 with 1 Axes>"
      ]
     },
     "metadata": {
      "needs_background": "light"
     },
     "output_type": "display_data"
    }
   ],
   "source": [
    "# Lets make a scatter plot \n",
    "plt.scatter(X_test, Y_test,  color='gray')\n",
    "plt.plot(X_test, Y_pred, color='red', linewidth=2)\n",
    "plt.title('Prediction vs test data')   \n",
    "plt.xlabel('Year')\n",
    "plt.ylabel('GDP')\n",
    "plt.show()\n",
    "\n",
    "# Since we are getting a staright line means our algorithm is working correctly."
   ]
  },
  {
   "cell_type": "code",
   "execution_count": 34,
   "metadata": {},
   "outputs": [
    {
     "name": "stdout",
     "output_type": "stream",
     "text": [
      "Mean Absolute Error: 3044.4458864023295\n",
      "Mean Squared Error: 12068598.210886478\n",
      "Root Mean Squared Error: 3473.988804081913\n"
     ]
    }
   ],
   "source": [
    "# Final step is to evaluate the performance of the algorithm using below evaluation metrices on test data.\n",
    "\n",
    "print('Mean Absolute Error:', metrics.mean_absolute_error(Y_test, Y_pred))  \n",
    "print('Mean Squared Error:', metrics.mean_squared_error(Y_test, Y_pred))  \n",
    "print('Root Mean Squared Error:', np.sqrt(metrics.mean_squared_error(Y_test, Y_pred)))"
   ]
  },
  {
   "cell_type": "code",
   "execution_count": null,
   "metadata": {},
   "outputs": [],
   "source": []
  }
 ],
 "metadata": {
  "kernelspec": {
   "display_name": "Python 3",
   "language": "python",
   "name": "python3"
  },
  "language_info": {
   "codemirror_mode": {
    "name": "ipython",
    "version": 3
   },
   "file_extension": ".py",
   "mimetype": "text/x-python",
   "name": "python",
   "nbconvert_exporter": "python",
   "pygments_lexer": "ipython3",
   "version": "3.6.5"
  },
  "toc": {
   "base_numbering": 1,
   "nav_menu": {},
   "number_sections": true,
   "sideBar": true,
   "skip_h1_title": false,
   "title_cell": "Table of Contents",
   "title_sidebar": "Contents",
   "toc_cell": false,
   "toc_position": {},
   "toc_section_display": true,
   "toc_window_display": false
  }
 },
 "nbformat": 4,
 "nbformat_minor": 2
}
